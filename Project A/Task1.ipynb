{
 "cells": [
  {
   "cell_type": "markdown",
   "metadata": {
    "id": "6WYMfvCNPwpm"
   },
   "source": [
    "# Project A: Knowledge Distillation for Building Lightweight Deep Learning Models in Visual Classification Tasks"
   ]
  },
  {
   "cell_type": "code",
   "execution_count": 1,
   "metadata": {
    "id": "vA8ppgB2P0aJ"
   },
   "outputs": [],
   "source": [
    "import os\n",
    "import sys\n",
    "module_path = os.path.abspath(os.path.join('..'))\n",
    "if module_path not in sys.path:\n",
    "    sys.path.append(module_path)\n",
    "\n",
    "from Utilities import *"
   ]
  },
  {
   "cell_type": "markdown",
   "metadata": {
    "id": "H2EFLQROP2R7"
   },
   "source": [
    "# Data loading"
   ]
  },
  {
   "cell_type": "code",
   "execution_count": 2,
   "metadata": {},
   "outputs": [],
   "source": [
    "mnist_train, mnist_test = loadMnist()"
   ]
  },
  {
   "cell_type": "markdown",
   "metadata": {
    "id": "kAZwfvW5P63q"
   },
   "source": [
    "# Model creation"
   ]
  },
  {
   "cell_type": "code",
   "execution_count": 3,
   "metadata": {
    "id": "zINgDkA7P7BP"
   },
   "outputs": [
    {
     "name": "stdout",
     "output_type": "stream",
     "text": [
      "Epoch 1: Class_accuracy: 97.99%\n",
      "Epoch 2: Class_accuracy: 98.70%\n",
      "Epoch 3: Class_accuracy: 98.82%\n",
      "Epoch 4: Class_accuracy: 98.90%\n",
      "Epoch 5: Class_accuracy: 99.09%\n",
      "Epoch 6: Class_accuracy: 98.98%\n",
      "Epoch 7: Class_accuracy: 98.96%\n",
      "Epoch 8: Class_accuracy: 99.13%\n",
      "Epoch 9: Class_accuracy: 98.94%\n",
      "Epoch 10: Class_accuracy: 99.04%\n",
      "Epoch 11: Class_accuracy: 99.21%\n",
      "Epoch 12: Class_accuracy: 99.14%\n",
      "model Testing Accuracy: 99.14%\n",
      "Epoch 1: Class_accuracy: 96.50%\n",
      "Epoch 2: Class_accuracy: 97.26%\n",
      "Epoch 3: Class_accuracy: 97.81%\n",
      "Epoch 4: Class_accuracy: 97.89%\n",
      "Epoch 5: Class_accuracy: 97.86%\n",
      "Epoch 6: Class_accuracy: 97.84%\n",
      "Epoch 7: Class_accuracy: 98.23%\n",
      "Epoch 8: Class_accuracy: 98.17%\n",
      "Epoch 9: Class_accuracy: 98.25%\n",
      "Epoch 10: Class_accuracy: 98.30%\n",
      "Epoch 11: Class_accuracy: 98.44%\n",
      "Epoch 12: Class_accuracy: 98.48%\n",
      "model Testing Accuracy: 98.48%\n"
     ]
    }
   ],
   "source": [
    "teacherModel = getTeacherModel()\n",
    "studenModel = getStudentModel()\n",
    "train_and_evaluate(teacherModel,mnist_train,mnist_test)\n",
    "teacherTestAcc = testModel(teacherModel,mnist_test)\n",
    "train_and_evaluate_using_KD(studenModel,teacherModel,mnist_train,mnist_test,0.5,4)\n",
    "studentTestAcc = testModel(studenModel,mnist_test)"
   ]
  },
  {
   "cell_type": "markdown",
   "metadata": {
    "id": "sj1N38fnRTNB"
   },
   "source": [
    "# Test accuracy vs. tempreture curve"
   ]
  },
  {
   "cell_type": "code",
   "execution_count": null,
   "metadata": {
    "id": "gX4dbazrRWIz"
   },
   "outputs": [],
   "source": [
    "# testACC = []\n",
    "# tempratureValues = [1, 2, 4, 16, 32, 64]\n",
    "# for temp in tempratureValues:\n",
    "#     st = getStudentModel()\n",
    "#     train_and_evaluate_using_KD(st,teacherModel,mnist_train,mnist_test,0.5, temp)\n",
    "#     testACC += [testModel(st,mnist_test)]"
   ]
  },
  {
   "cell_type": "markdown",
   "metadata": {
    "id": "WNrH_1emRbGA"
   },
   "source": [
    "# Train student from scratch"
   ]
  },
  {
   "cell_type": "code",
   "execution_count": 3,
   "metadata": {
    "id": "HjospsxIRbQ6"
   },
   "outputs": [
    {
     "name": "stdout",
     "output_type": "stream",
     "text": [
      "Epoch 1: Class_accuracy: 96.90%\n",
      "Epoch 2: Class_accuracy: 97.71%\n",
      "Epoch 3: Class_accuracy: 97.46%\n",
      "Epoch 4: Class_accuracy: 97.29%\n",
      "Epoch 5: Class_accuracy: 98.16%\n",
      "Epoch 6: Class_accuracy: 98.05%\n",
      "Epoch 7: Class_accuracy: 97.81%\n",
      "Epoch 8: Class_accuracy: 97.82%\n",
      "Epoch 9: Class_accuracy: 97.68%\n",
      "Epoch 10: Class_accuracy: 97.88%\n",
      "Epoch 11: Class_accuracy: 98.01%\n",
      "Epoch 12: Class_accuracy: 98.11%\n",
      "model Testing Accuracy: 98.11%\n"
     ]
    }
   ],
   "source": [
    "fc_model_no_distillation = getStudentModel()\n",
    "train_and_evaluate(fc_model_no_distillation,mnist_train,mnist_test)\n",
    "teacherTestAcc = testModel(fc_model_no_distillation,mnist_test)\n"
   ]
  },
  {
   "cell_type": "markdown",
   "metadata": {
    "id": "yq3JTpQ4RuhR"
   },
   "source": [
    "# Comparing the teacher and student model (number of of parameters and FLOPs) "
   ]
  },
  {
   "cell_type": "code",
   "execution_count": null,
   "metadata": {
    "id": "4V8GB2yRRuxF"
   },
   "outputs": [],
   "source": [
    "# your code start from here for step 8\n"
   ]
  },
  {
   "cell_type": "markdown",
   "metadata": {
    "id": "KjwJ5oziRvRn"
   },
   "source": [
    "# Implementing the state-of-the-art KD algorithm"
   ]
  },
  {
   "cell_type": "code",
   "execution_count": 4,
   "metadata": {
    "id": "q10lybAFRvZt"
   },
   "outputs": [
    {
     "name": "stdout",
     "output_type": "stream",
     "text": [
      "Epoch 1: Class_accuracy: 96.50%\n",
      "Epoch 2: Class_accuracy: 97.37%\n",
      "Epoch 3: Class_accuracy: 97.85%\n",
      "Epoch 4: Class_accuracy: 97.97%\n",
      "Epoch 5: Class_accuracy: 97.88%\n",
      "Epoch 6: Class_accuracy: 98.06%\n",
      "Epoch 7: Class_accuracy: 98.28%\n",
      "Epoch 8: Class_accuracy: 98.29%\n",
      "Epoch 9: Class_accuracy: 98.45%\n",
      "Epoch 10: Class_accuracy: 98.47%\n",
      "Epoch 11: Class_accuracy: 98.66%\n",
      "Epoch 12: Class_accuracy: 98.63%\n",
      "model Testing Accuracy: 98.63%\n",
      "Epoch 1: Class_accuracy: 96.79%\n",
      "Epoch 2: Class_accuracy: 97.49%\n",
      "Epoch 3: Class_accuracy: 97.67%\n",
      "Epoch 4: Class_accuracy: 97.86%\n",
      "Epoch 5: Class_accuracy: 97.89%\n",
      "Epoch 6: Class_accuracy: 98.09%\n",
      "Epoch 7: Class_accuracy: 98.14%\n",
      "Epoch 8: Class_accuracy: 97.79%\n",
      "Epoch 9: Class_accuracy: 98.03%\n",
      "Epoch 10: Class_accuracy: 98.50%\n",
      "Epoch 11: Class_accuracy: 97.97%\n",
      "Epoch 12: Class_accuracy: 98.52%\n",
      "model Testing Accuracy: 98.52%\n"
     ]
    }
   ],
   "source": [
    "teachingAssistant = getTeachingAssistantModel()\n",
    "train_and_evaluate_using_KD(teachingAssistant,teacherModel,mnist_train,mnist_test,0.5,4)\n",
    "teachingAssistantAcc = testModel(teachingAssistant,mnist_test)\n",
    "student = getStudentModel()\n",
    "train_and_evaluate_using_KD(student,teachingAssistant,mnist_train,mnist_test,0.5,4)\n",
    "studenttAcc = testModel(student,mnist_test)"
   ]
  },
  {
   "cell_type": "markdown",
   "metadata": {
    "id": "6dsOmtqdieIC"
   },
   "source": [
    "# (Optional) XAI method to explain models"
   ]
  },
  {
   "cell_type": "code",
   "execution_count": null,
   "metadata": {
    "id": "X0IMIFW8ilPO"
   },
   "outputs": [],
   "source": [
    "# your code start from here for step 13\n"
   ]
  }
 ],
 "metadata": {
  "colab": {
   "provenance": []
  },
  "kernelspec": {
   "display_name": "Python 3.8.13 ('base')",
   "language": "python",
   "name": "python3"
  },
  "language_info": {
   "codemirror_mode": {
    "name": "ipython",
    "version": 3
   },
   "file_extension": ".py",
   "mimetype": "text/x-python",
   "name": "python",
   "nbconvert_exporter": "python",
   "pygments_lexer": "ipython3",
   "version": "3.8.13"
  },
  "vscode": {
   "interpreter": {
    "hash": "680419e0188aaa6743f4a0e8f0e13458aa11f8cd04d9d5e558d5d63e6a49fb4a"
   }
  }
 },
 "nbformat": 4,
 "nbformat_minor": 1
}
