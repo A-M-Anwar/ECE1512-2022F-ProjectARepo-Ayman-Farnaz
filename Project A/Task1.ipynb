{
 "cells": [
  {
   "cell_type": "markdown",
   "metadata": {
    "id": "6WYMfvCNPwpm"
   },
   "source": [
    "# Knowledge Distillation in MNIST Dataset"
   ]
  },
  {
   "cell_type": "code",
   "execution_count": 2,
   "metadata": {
    "id": "vA8ppgB2P0aJ"
   },
   "outputs": [],
   "source": [
    "import os\n",
    "import sys\n",
    "module_path = os.path.abspath(os.path.join('..'))\n",
    "if module_path not in sys.path:\n",
    "    sys.path.append(module_path)\n",
    "\n",
    "from Utilities import *"
   ]
  },
  {
   "cell_type": "markdown",
   "metadata": {
    "id": "H2EFLQROP2R7"
   },
   "source": [
    "# Data loading"
   ]
  },
  {
   "cell_type": "code",
   "execution_count": 3,
   "metadata": {},
   "outputs": [],
   "source": [
    "mnist_train, mnist_test = loadMnist()"
   ]
  },
  {
   "cell_type": "markdown",
   "metadata": {
    "id": "kAZwfvW5P63q"
   },
   "source": [
    "# Model creation"
   ]
  },
  {
   "cell_type": "code",
   "execution_count": 4,
   "metadata": {
    "id": "zINgDkA7P7BP"
   },
   "outputs": [],
   "source": [
    "teacherModel = getTeacherModel()\n",
    "studenModel = getStudentModel()"
   ]
  },
  {
   "cell_type": "markdown",
   "metadata": {},
   "source": [
    "# Train teacher and Student using default temprature"
   ]
  },
  {
   "cell_type": "code",
   "execution_count": 5,
   "metadata": {},
   "outputs": [
    {
     "ename": "TypeError",
     "evalue": "train_and_evaluate() missing 4 required positional arguments: 'trainingLabel', 'testLabel', 'nEpochs', and 'learingRate'",
     "output_type": "error",
     "traceback": [
      "\u001b[1;31m---------------------------------------------------------------------------\u001b[0m",
      "\u001b[1;31mTypeError\u001b[0m                                 Traceback (most recent call last)",
      "\u001b[1;32mc:\\Users\\ayman\\Documents\\Repos\\ECE1512-2022F-ProjectARepo-Ayman-Farnaz\\Project A\\Task1.ipynb Cell 8\u001b[0m in \u001b[0;36m<cell line: 1>\u001b[1;34m()\u001b[0m\n\u001b[1;32m----> <a href='vscode-notebook-cell:/c%3A/Users/ayman/Documents/Repos/ECE1512-2022F-ProjectARepo-Ayman-Farnaz/Project%20A/Task1.ipynb#X10sZmlsZQ%3D%3D?line=0'>1</a>\u001b[0m train_and_evaluate(teacherModel,mnist_train,mnist_test)\n\u001b[0;32m      <a href='vscode-notebook-cell:/c%3A/Users/ayman/Documents/Repos/ECE1512-2022F-ProjectARepo-Ayman-Farnaz/Project%20A/Task1.ipynb#X10sZmlsZQ%3D%3D?line=1'>2</a>\u001b[0m teacherTestAcc \u001b[39m=\u001b[39m testModel(teacherModel,mnist_test)\n\u001b[0;32m      <a href='vscode-notebook-cell:/c%3A/Users/ayman/Documents/Repos/ECE1512-2022F-ProjectARepo-Ayman-Farnaz/Project%20A/Task1.ipynb#X10sZmlsZQ%3D%3D?line=2'>3</a>\u001b[0m train_and_evaluate_using_KD(studenModel,teacherModel,mnist_train,mnist_test,\u001b[39m0.5\u001b[39m,\u001b[39m4\u001b[39m)\n",
      "\u001b[1;31mTypeError\u001b[0m: train_and_evaluate() missing 4 required positional arguments: 'trainingLabel', 'testLabel', 'nEpochs', and 'learingRate'"
     ]
    }
   ],
   "source": [
    "train_and_evaluate(teacherModel,mnist_train,mnist_test)\n",
    "teacherTestAcc = testModel(teacherModel,mnist_test)\n",
    "train_and_evaluate_using_KD(studenModel,teacherModel,mnist_train,mnist_test,0.5,4)\n",
    "studentTestAcc = testModel(studenModel,mnist_test)"
   ]
  },
  {
   "cell_type": "markdown",
   "metadata": {
    "id": "sj1N38fnRTNB"
   },
   "source": [
    "# Test accuracy vs. tempreture curve"
   ]
  },
  {
   "cell_type": "code",
   "execution_count": null,
   "metadata": {
    "id": "gX4dbazrRWIz"
   },
   "outputs": [],
   "source": [
    "testACC = []\n",
    "tempratureValues = [1, 2, 4, 16, 32, 64]\n",
    "for temp in tempratureValues:\n",
    "    st = getStudentModel()\n",
    "    train_and_evaluate_using_KD(st,teacherModel,mnist_train,mnist_test,0.5, temp)\n",
    "    testACC += [testModel(st,mnist_test)]\n",
    "print(testACC)"
   ]
  },
  {
   "cell_type": "markdown",
   "metadata": {
    "id": "WNrH_1emRbGA"
   },
   "source": [
    "# Train student from scratch"
   ]
  },
  {
   "cell_type": "code",
   "execution_count": null,
   "metadata": {
    "id": "HjospsxIRbQ6"
   },
   "outputs": [],
   "source": [
    "fc_model_no_distillation = getStudentModel()\n",
    "train_and_evaluate(fc_model_no_distillation,mnist_train,mnist_test)\n",
    "teacherTestAcc = testModel(fc_model_no_distillation,mnist_test)\n"
   ]
  },
  {
   "cell_type": "markdown",
   "metadata": {
    "id": "yq3JTpQ4RuhR"
   },
   "source": [
    "# Comparing the teacher and student model (number of of parameters and FLOPs) "
   ]
  },
  {
   "cell_type": "code",
   "execution_count": null,
   "metadata": {
    "id": "4V8GB2yRRuxF"
   },
   "outputs": [],
   "source": [
    "# your code start from here for step 8\n",
    "from keras_flops import get_flops\n",
    "TeacherParameters = teacherModel.summary()\n",
    "StudentParameters = studenModel.summary()\n",
    "\n",
    "flops = get_flops(teacherModel, batch_size=1)\n",
    "print(f\"FLOPS: {flops / 10 ** 9:.03} G\")\n",
    "\n",
    "flops = get_flops(studenModel, batch_size=1)\n",
    "print(f\"FLOPS: {flops / 10 ** 9:.03} G\")"
   ]
  },
  {
   "cell_type": "markdown",
   "metadata": {
    "id": "KjwJ5oziRvRn"
   },
   "source": [
    "# Implementing the state-of-the-art KD algorithm"
   ]
  },
  {
   "cell_type": "code",
   "execution_count": null,
   "metadata": {
    "id": "q10lybAFRvZt"
   },
   "outputs": [],
   "source": [
    "teachingAssistant = getTeachingAssistantModel()\n",
    "train_and_evaluate_using_KD(teachingAssistant,teacherModel,mnist_train,mnist_test,0.5,4)\n",
    "teachingAssistantAcc = testModel(teachingAssistant,mnist_test)\n",
    "student = getStudentModel()\n",
    "train_and_evaluate_using_KD(student,teachingAssistant,mnist_train,mnist_test,0.5,4)\n",
    "studenttAcc = testModel(student,mnist_test)"
   ]
  },
  {
   "cell_type": "code",
   "execution_count": null,
   "metadata": {},
   "outputs": [],
   "source": [
    "TeacherParameters = teacherModel.summary()\n",
    "TAParameters = teachingAssistant.summary()\n",
    "StudentParameters = studenModel.summary()\n",
    "\n",
    "flops = get_flops(teacherModel, batch_size=1)\n",
    "print(f\"FLOPS: {flops / 10 ** 9:.03} G\")\n",
    "\n",
    "flops = get_flops(teachingAssistant, batch_size=1)\n",
    "print(f\"FLOPS: {flops / 10 ** 9:.03} G\")\n",
    "\n",
    "flops = get_flops(studenModel, batch_size=1)\n",
    "print(f\"FLOPS: {flops / 10 ** 9:.03} G\")"
   ]
  }
 ],
 "metadata": {
  "colab": {
   "provenance": []
  },
  "kernelspec": {
   "display_name": "Python 3.8.13 ('tf')",
   "language": "python",
   "name": "python3"
  },
  "language_info": {
   "codemirror_mode": {
    "name": "ipython",
    "version": 3
   },
   "file_extension": ".py",
   "mimetype": "text/x-python",
   "name": "python",
   "nbconvert_exporter": "python",
   "pygments_lexer": "ipython3",
   "version": "3.8.13"
  },
  "vscode": {
   "interpreter": {
    "hash": "680419e0188aaa6743f4a0e8f0e13458aa11f8cd04d9d5e558d5d63e6a49fb4a"
   }
  }
 },
 "nbformat": 4,
 "nbformat_minor": 1
}
