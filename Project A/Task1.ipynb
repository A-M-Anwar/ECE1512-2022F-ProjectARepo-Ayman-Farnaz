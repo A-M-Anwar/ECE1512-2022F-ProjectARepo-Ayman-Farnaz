{
 "cells": [
  {
   "cell_type": "markdown",
   "metadata": {
    "id": "6WYMfvCNPwpm"
   },
   "source": [
    "# Project A: Knowledge Distillation for Building Lightweight Deep Learning Models in Visual Classification Tasks"
   ]
  },
  {
   "cell_type": "code",
   "execution_count": null,
   "metadata": {
    "id": "vA8ppgB2P0aJ"
   },
   "outputs": [],
   "source": [
    "import os\n",
    "import sys\n",
    "module_path = os.path.abspath(os.path.join('..'))\n",
    "if module_path not in sys.path:\n",
    "    sys.path.append(module_path)\n",
    "\n",
    "from Utilities import *"
   ]
  },
  {
   "cell_type": "markdown",
   "metadata": {
    "id": "H2EFLQROP2R7"
   },
   "source": [
    "# Data loading"
   ]
  },
  {
   "cell_type": "code",
   "execution_count": null,
   "metadata": {},
   "outputs": [],
   "source": [
    "mnist_train, mnist_test = loadMnist()"
   ]
  },
  {
   "cell_type": "markdown",
   "metadata": {
    "id": "kAZwfvW5P63q"
   },
   "source": [
    "# Model creation"
   ]
  },
  {
   "cell_type": "code",
   "execution_count": null,
   "metadata": {
    "id": "zINgDkA7P7BP"
   },
   "outputs": [],
   "source": [
    "teacherModel = getTeacherModel()\n",
    "studenModel = getStudentModel()\n",
    "train_and_evaluate(teacherModel,mnist_train,mnist_test)\n",
    "teacherTestAcc = testModel(teacherModel,mnist_test)\n",
    "train_and_evaluate_using_KD(studenModel,teacherModel,mnist_train,mnist_test,0.5,4)\n",
    "studentTestAcc = testModel(studenModel,mnist_test)"
   ]
  },
  {
   "cell_type": "markdown",
   "metadata": {
    "id": "sj1N38fnRTNB"
   },
   "source": [
    "# Test accuracy vs. tempreture curve"
   ]
  },
  {
   "cell_type": "code",
   "execution_count": null,
   "metadata": {
    "id": "gX4dbazrRWIz"
   },
   "outputs": [],
   "source": [
    "testACC = []\n",
    "tempratureValues = [1, 2, 4, 16, 32, 64]\n",
    "for temp in tempratureValues:\n",
    "    st = getStudentModel()\n",
    "    train_and_evaluate_using_KD(st,teacherModel,mnist_train,mnist_test,0.5, temp)\n",
    "    testACC += [testModel(st,mnist_test)]\n",
    "print(testACC)"
   ]
  },
  {
   "cell_type": "markdown",
   "metadata": {
    "id": "WNrH_1emRbGA"
   },
   "source": [
    "# Train student from scratch"
   ]
  },
  {
   "cell_type": "code",
   "execution_count": null,
   "metadata": {
    "id": "HjospsxIRbQ6"
   },
   "outputs": [],
   "source": [
    "fc_model_no_distillation = getStudentModel()\n",
    "train_and_evaluate(fc_model_no_distillation,mnist_train,mnist_test)\n",
    "teacherTestAcc = testModel(fc_model_no_distillation,mnist_test)\n"
   ]
  },
  {
   "cell_type": "markdown",
   "metadata": {
    "id": "yq3JTpQ4RuhR"
   },
   "source": [
    "# Comparing the teacher and student model (number of of parameters and FLOPs) "
   ]
  },
  {
   "cell_type": "code",
   "execution_count": null,
   "metadata": {
    "id": "4V8GB2yRRuxF"
   },
   "outputs": [],
   "source": [
    "# your code start from here for step 8\n",
    "from keras_flops import get_flops\n",
    "TeacherParameters = teacherModel.summary()\n",
    "StudentParameters = studenModel.summary()\n",
    "\n",
    "flops = get_flops(teacherModel, batch_size=1)\n",
    "print(f\"FLOPS: {flops / 10 ** 9:.03} G\")\n",
    "\n",
    "flops = get_flops(studenModel, batch_size=1)\n",
    "print(f\"FLOPS: {flops / 10 ** 9:.03} G\")"
   ]
  },
  {
   "cell_type": "markdown",
   "metadata": {
    "id": "KjwJ5oziRvRn"
   },
   "source": [
    "# Implementing the state-of-the-art KD algorithm"
   ]
  },
  {
   "cell_type": "code",
   "execution_count": null,
   "metadata": {
    "id": "q10lybAFRvZt"
   },
   "outputs": [],
   "source": [
    "teachingAssistant = getTeachingAssistantModel()\n",
    "train_and_evaluate_using_KD(teachingAssistant,teacherModel,mnist_train,mnist_test,0.5,4)\n",
    "teachingAssistantAcc = testModel(teachingAssistant,mnist_test)\n",
    "student = getStudentModel()\n",
    "train_and_evaluate_using_KD(student,teachingAssistant,mnist_train,mnist_test,0.5,4)\n",
    "studenttAcc = testModel(student,mnist_test)"
   ]
  },
  {
   "cell_type": "code",
   "execution_count": null,
   "metadata": {},
   "outputs": [],
   "source": [
    "TeacherParameters = teacherModel.summary()\n",
    "TAParameters = teachingAssistant.summary()\n",
    "StudentParameters = studenModel.summary()\n",
    "\n",
    "flops = get_flops(teacherModel, batch_size=1)\n",
    "print(f\"FLOPS: {flops / 10 ** 9:.03} G\")\n",
    "\n",
    "flops = get_flops(teachingAssistant, batch_size=1)\n",
    "print(f\"FLOPS: {flops / 10 ** 9:.03} G\")\n",
    "\n",
    "flops = get_flops(studenModel, batch_size=1)\n",
    "print(f\"FLOPS: {flops / 10 ** 9:.03} G\")"
   ]
  },
  {
   "cell_type": "markdown",
   "metadata": {
    "id": "6dsOmtqdieIC"
   },
   "source": [
    "# (Optional) XAI method to explain models"
   ]
  },
  {
   "cell_type": "code",
   "execution_count": null,
   "metadata": {
    "id": "X0IMIFW8ilPO"
   },
   "outputs": [],
   "source": [
    "# your code start from here for step 13\n"
   ]
  }
 ],
 "metadata": {
  "colab": {
   "provenance": []
  },
  "kernelspec": {
   "display_name": "Python 3.8.13 ('base')",
   "language": "python",
   "name": "python3"
  },
  "language_info": {
   "codemirror_mode": {
    "name": "ipython",
    "version": 3
   },
   "file_extension": ".py",
   "mimetype": "text/x-python",
   "name": "python",
   "nbconvert_exporter": "python",
   "pygments_lexer": "ipython3",
   "version": "3.8.13"
  },
  "vscode": {
   "interpreter": {
    "hash": "bd69b69098383e7afc3b00cbd356743fa158451e338fee7a04d947d5b8d4c6e1"
   }
  }
 },
 "nbformat": 4,
 "nbformat_minor": 1
}
