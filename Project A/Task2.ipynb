{
 "cells": [
  {
   "cell_type": "markdown",
   "metadata": {},
   "source": [
    "# Knowledge Distillation in MHIST Dataset"
   ]
  },
  {
   "cell_type": "code",
   "execution_count": 1,
   "metadata": {},
   "outputs": [],
   "source": [
    "import os\n",
    "import sys\n",
    "import numpy as np\n",
    "import random\n",
    "import matplotlib.pyplot as plt\n",
    "from sklearn.preprocessing import StandardScaler\n",
    "module_path = os.path.abspath(os.path.join('..'))\n",
    "if module_path not in sys.path:\n",
    "    sys.path.append(module_path)\n",
    "\n",
    "plt.style.use('_mpl-gallery')\n",
    "\n",
    "from Utilities import *"
   ]
  },
  {
   "cell_type": "markdown",
   "metadata": {},
   "source": [
    "# Load dataset"
   ]
  },
  {
   "cell_type": "code",
   "execution_count": 2,
   "metadata": {},
   "outputs": [
    {
     "name": "stdout",
     "output_type": "stream",
     "text": [
      "630 1545\n"
     ]
    }
   ],
   "source": [
    "# Prepare data\n",
    "path = \"mhist_dataset/images\"\n",
    "CSVfile = \"mhist_dataset/annotations.csv\"\n",
    "\n",
    "data, file_names = load_mhist_images(path)\n",
    "X_train, y_train, X_test, y_test = loadMHIST(CSVfile,data)\n",
    "\n",
    "# Data Augmentation\n",
    "AugmentedData = []\n",
    "AugmentedLabel = []\n",
    "for i in range(len(X_train)):\n",
    "    if((y_train[i]==(1,0)).all()):\n",
    "        AugmentedData.append(cv2.rotate(X_train[i], cv2.ROTATE_90_CLOCKWISE))\n",
    "        AugmentedLabel.append([1,0])\n",
    "X_train = np.concatenate((X_train, AugmentedData))\n",
    "y_train = np.concatenate((y_train, AugmentedLabel))\n",
    "c = list(zip(X_train, y_train))\n",
    "\n",
    "random.shuffle(c)\n",
    "X_train, y_train = zip(*c)\n",
    "X_train = np.asarray(X_train)\n",
    "y_train = np.asarray(y_train)\n",
    "X_test = np.asarray(X_test)\n",
    "y_test = np.asarray(y_test)\n",
    "\n",
    "m  = np.mean(X_train)\n",
    "s  = np.std(X_train)\n",
    "X_train = (X_train - m )/ s\n",
    "X_test = (X_test - m )/ s\n",
    "\n",
    "\n",
    "Train_Data, Train_Label, Test_Data, Test_Label = dataBatching(X_train, y_train, X_test, y_test)\n"
   ]
  },
  {
   "cell_type": "code",
   "execution_count": 3,
   "metadata": {},
   "outputs": [],
   "source": [
    "## Load Teacher Model\n",
    "restNet = getresnetModel()\n",
    "\n",
    "## Load Student Model for KD\n",
    "mobileNetKD = getMobileNetModel()\n",
    "\n",
    "## Load Student Model for from scratch training\n",
    "mobileNet = getMobileNetModel()"
   ]
  },
  {
   "cell_type": "markdown",
   "metadata": {},
   "source": [
    "# Train Teacher Model (Resnet)"
   ]
  },
  {
   "cell_type": "code",
   "execution_count": 4,
   "metadata": {},
   "outputs": [
    {
     "name": "stdout",
     "output_type": "stream",
     "text": [
      "Epoch 1: Training Accuracy: 76.69 % and Testing Accuracy: 56.05 % Sensitivity: 73.58% Specificity: 30.83 %\n",
      "Epoch 2: "
     ]
    }
   ],
   "source": [
    "## intial epochs at learning rate 0.0001\n",
    "resnet10EpochPerformance = train_and_evaluate(restNet,Train_Data,Test_Data,Train_Label,Test_Label,10, 0.0001)\n",
    "## Fine tune epochs at learning rate 0.00001\n",
    "resnet25EpochPerformance = train_and_evaluate(restNet,Train_Data,Test_Data,Train_Label,Test_Label,25, 0.00001)\n"
   ]
  },
  {
   "cell_type": "markdown",
   "metadata": {},
   "source": [
    "# Train Student Mobile Net using KD\n"
   ]
  },
  {
   "cell_type": "code",
   "execution_count": null,
   "metadata": {},
   "outputs": [],
   "source": [
    "## intial epochs\n",
    "mobilenetKd10EpochPerformance = train_and_evaluate_mobileNet_using_KD(mobileNetKD,restNet,Train_Data,Test_Data,Train_Label,Test_Label, 0.5,4, 10, 0.001)\n",
    "## Fine tune epochs\n",
    "mobilenetKd25EpochPerformance = train_and_evaluate_mobileNet_using_KD(mobileNetKD,restNet,Train_Data,Test_Data,Train_Label,Test_Label, 0.5,4, 25, 0.0001)"
   ]
  },
  {
   "cell_type": "markdown",
   "metadata": {},
   "source": [
    "# Train another student model from scratch"
   ]
  },
  {
   "cell_type": "code",
   "execution_count": null,
   "metadata": {},
   "outputs": [],
   "source": [
    "## intial epochs\n",
    "mobilenet10EpochPerformance = train_and_evaluate(mobileNet,Train_Data,Test_Data,Train_Label,Test_Label,10, 0.001)\n",
    "## Fine tune epochs\n",
    "mobilenet25EpochPerformance = train_and_evaluate(mobileNet,Train_Data,Test_Data,Train_Label,Test_Label,25, 0.0001)\n"
   ]
  },
  {
   "cell_type": "markdown",
   "metadata": {},
   "source": [
    "# Models Testing"
   ]
  },
  {
   "cell_type": "code",
   "execution_count": null,
   "metadata": {},
   "outputs": [],
   "source": [
    "# model testing\n",
    "teacherPerformance = testModelPerformance(restNet,Test_Data,Test_Label)\n",
    "studentPerfromance = testModelPerformance(mobileNet,Test_Data,Test_Label)\n",
    "studentKdPerfromance = testModelPerformance(mobileNetKD,Test_Data,Test_Label)"
   ]
  },
  {
   "cell_type": "markdown",
   "metadata": {},
   "source": [
    "# Draw Performance Measures"
   ]
  },
  {
   "cell_type": "code",
   "execution_count": null,
   "metadata": {},
   "outputs": [],
   "source": [
    "# combine data\n",
    "resnetTraining = np.squeeze(np.asarray([resnet10EpochPerformance[0] + resnet25EpochPerformance[0]]))\n",
    "resnetTesting = np.squeeze(np.asarray([resnet10EpochPerformance[1] + resnet25EpochPerformance[1]]))\n",
    "mobilenetKdTraining = np.squeeze(np.asarray([mobilenetKd10EpochPerformance[0] + mobilenetKd25EpochPerformance[0]]))\n",
    "mobilenetKdTesting = np.squeeze(np.asarray([mobilenetKd10EpochPerformance[1] + mobilenetKd25EpochPerformance[1]]))\n",
    "mobilenetTraining = np.squeeze(np.asarray([mobilenet10EpochPerformance[0] + mobilenet25EpochPerformance[0]]))\n",
    "mobilenetTesting = np.squeeze(np.asarray([mobilenet10EpochPerformance[1] + mobilenet25EpochPerformance[1]]))"
   ]
  },
  {
   "cell_type": "code",
   "execution_count": null,
   "metadata": {},
   "outputs": [],
   "source": [
    "f, ax = plt.subplots(2,1,figsize=(16, 10))\n",
    "ax[0].plot(resnetTraining[:,0], label = 'ResNet training Accuracy' )\n",
    "ax[0].plot(resnetTraining[:,1], label = 'ResNet training Sensitivity' )\n",
    "ax[0].plot(resnetTraining[:,2], label = 'ResNet training Specificity' )\n",
    "ax[0].plot(mobilenetKdTraining[:,0], label = 'MobileNet using KD training Accuracy' )\n",
    "ax[0].plot(mobilenetKdTraining[:,1], label = 'MobileNet using KD training Sensitivity' )\n",
    "ax[0].plot(mobilenetKdTraining[:,2], label = 'MobileNet using KD training Specificity' )\n",
    "ax[0].plot(mobilenetTraining[:,0], label = 'MobileNet training Accuracy' )\n",
    "ax[0].plot(mobilenetTraining[:,1], label = 'MobileNet training Sensitivity' )\n",
    "ax[0].plot(mobilenetTraining[:,2], label = 'MobileNet training Specificity' )\n",
    "ax[0].set_xlabel('Epochs', fontsize = 16)\n",
    "ax[0].set_ylabel('Percentage (%)', fontsize = 16)\n",
    "ax[0].set_title(' Training Performance Across Epochs', fontsize = 20)\n",
    "ax[0].legend()\n",
    "ax[1].plot(resnetTesting[:,0], label = 'ResNet training Accuracy' )\n",
    "ax[1].plot(resnetTesting[:,1], label = 'ResNet training Sensitivity' )\n",
    "ax[1].plot(resnetTesting[:,2], label = 'ResNet training Specificity' )\n",
    "ax[1].plot(mobilenetKdTesting[:,0], label = 'MobileNet using KD training Accuracy' )\n",
    "ax[1].plot(mobilenetKdTesting[:,1], label = 'MobileNet using KD training Sensitivity' )\n",
    "ax[1].plot(mobilenetKdTesting[:,2], label = 'MobileNet using KD training Specificity' )\n",
    "ax[1].plot(mobilenetTesting[:,0], label = 'MobileNet training Accuracy' )\n",
    "ax[1].plot(mobilenetTesting[:,1], label = 'MobileNet training Sensitivity' )\n",
    "ax[1].plot(mobilenetTesting[:,2], label = 'MobileNet training Specificity' )\n",
    "ax[1].set_xlabel('Epochs', fontsize = 16)\n",
    "ax[1].set_ylabel('Percentage (%)', fontsize = 16)\n",
    "ax[1].set_title(' Testing Performance Across Epochs', fontsize = 20)\n",
    "ax[1].legend()\n",
    "plt.show()\n",
    "f.savefig('Figures/fig7.png', bbox_inches='tight')"
   ]
  },
  {
   "cell_type": "markdown",
   "metadata": {},
   "source": [
    "# Temperature Vs Accuracy"
   ]
  },
  {
   "cell_type": "code",
   "execution_count": null,
   "metadata": {},
   "outputs": [],
   "source": [
    "testPerformance = []\n",
    "temperatureValues = [1, 2, 4, 16, 32, 64]\n",
    "for temp in temperatureValues:\n",
    "    st = getMobileNetModel()\n",
    "    stPerf = train_and_evaluate_mobileNet_using_KD(st, restNet, Train_Data, Test_Data, Train_Label, Test_Label, 0.5, temp, 10, 0.001)\n",
    "    stPerf = train_and_evaluate_mobileNet_using_KD(st, restNet, Train_Data, Test_Data, Train_Label, Test_Label, 0.5, temp, 10, 0.0001)\n",
    "    testPerformance += [testModelPerformance(st,Test_Data,Test_Label)]\n",
    "    del st \n",
    "    del stPerf\n",
    "print(testPerformance)"
   ]
  },
  {
   "cell_type": "code",
   "execution_count": null,
   "metadata": {},
   "outputs": [],
   "source": [
    "testPerformance =  np.asarray(testPerformance)\n",
    "print(teacherPerformance.shape)\n",
    "# f, ax = plt.subplots(figsize=(16, 4))\n",
    "\n",
    "# ax.plot(tempratureValues,testACC )\n",
    "# ax.set_xlabel('Temperature', fontsize = 16)\n",
    "# ax.set_ylabel('Accuracy (%)', fontsize = 16)\n",
    "# ax.set_title(' Testing Accuracy of Student Model trained using KD Accuracy', fontsize = 20)\n",
    "# ax.legend()\n",
    "# plt.show()\n",
    "# f.savefig('Figures/fig8.png', bbox_inches='tight')"
   ]
  },
  {
   "cell_type": "code",
   "execution_count": null,
   "metadata": {},
   "outputs": [],
   "source": [
    "# your code start from here for step 8\n",
    "from keras_flops import get_flops\n",
    "TeacherParameters = restNet.summary()\n",
    "StudentParameters = mobileNetKD.summary()\n",
    "\n",
    "flops = get_flops(restNet, batch_size=1)\n",
    "print(f\"FLOPS: {flops / 10 ** 9:.03} G\")\n",
    "\n",
    "flops = get_flops(mobileNetKD, batch_size=1)\n",
    "print(f\"FLOPS: {flops / 10 ** 9:.03} G\")"
   ]
  }
 ],
 "metadata": {
  "kernelspec": {
   "display_name": "Python 3.8.13 ('base')",
   "language": "python",
   "name": "python3"
  },
  "language_info": {
   "codemirror_mode": {
    "name": "ipython",
    "version": 3
   },
   "file_extension": ".py",
   "mimetype": "text/x-python",
   "name": "python",
   "nbconvert_exporter": "python",
   "pygments_lexer": "ipython3",
   "version": "3.8.13"
  },
  "orig_nbformat": 4,
  "vscode": {
   "interpreter": {
    "hash": "680419e0188aaa6743f4a0e8f0e13458aa11f8cd04d9d5e558d5d63e6a49fb4a"
   }
  }
 },
 "nbformat": 4,
 "nbformat_minor": 2
}
