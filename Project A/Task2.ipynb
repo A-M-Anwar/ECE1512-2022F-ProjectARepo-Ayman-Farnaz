{
 "cells": [
  {
   "cell_type": "markdown",
   "metadata": {},
   "source": [
    "# Knowledge Distillation in MHIST Dataset"
   ]
  },
  {
   "cell_type": "code",
   "execution_count": 1,
   "metadata": {},
   "outputs": [],
   "source": [
    "import os\n",
    "import sys\n",
    "import numpy as np\n",
    "\n",
    "module_path = os.path.abspath(os.path.join('..'))\n",
    "if module_path not in sys.path:\n",
    "    sys.path.append(module_path)\n",
    "\n",
    "from Utilities import *"
   ]
  },
  {
   "cell_type": "markdown",
   "metadata": {},
   "source": [
    "# Load dataset"
   ]
  },
  {
   "cell_type": "code",
   "execution_count": null,
   "metadata": {},
   "outputs": [],
   "source": []
  },
  {
   "cell_type": "code",
   "execution_count": 2,
   "metadata": {},
   "outputs": [
    {
     "name": "stdout",
     "output_type": "stream",
     "text": [
      "(2175, 224, 224, 3)\n",
      "(977, 224, 224, 3)\n",
      "(2175, 2)\n",
      "(977, 2)\n",
      "(32, 224, 224, 3)\n",
      "(31, 224, 224, 3)\n",
      "(32, 224, 224, 3)\n",
      "(17, 224, 224, 3)\n"
     ]
    }
   ],
   "source": [
    "# Prepare data\n",
    "path = \"mhist_dataset/images\"\n",
    "CSVfile = \"mhist_dataset/annotations.csv\"\n",
    "\n",
    "data, file_names = load_mhist_images(path)\n",
    "X_train, y_train, X_test, y_test = loadMHIST(CSVfile,data)\n",
    "\n",
    "## Balance data\n",
    "\n",
    "## Augmentation for training\n",
    "\n",
    "#RotatedX_test = np.rot90(X_test,axes=(-2,-1))\n",
    "#X_test.append(data[RotatedX_test])\n",
    "#for i in range(X_test.shape[0]))\n",
    "    #y_test.append(y_test[i])\n",
    "\n",
    "Train_Data, Train_Label, Test_Data, Test_Label = dataBatching(X_train, y_train, X_test, y_test)\n"
   ]
  },
  {
   "cell_type": "code",
   "execution_count": 3,
   "metadata": {},
   "outputs": [],
   "source": [
    "## Load Teacher Model\n",
    "restNet = getresnetModel()\n",
    "\n",
    "## Load Student Model for KD\n",
    "mobileNetKD = getMobileNetModel()\n",
    "\n",
    "## Load Student Model for from scratch training\n",
    "mobileNet = getMobileNetModel()"
   ]
  },
  {
   "cell_type": "markdown",
   "metadata": {},
   "source": [
    "# Train Teacher Model (Resnet)"
   ]
  },
  {
   "cell_type": "code",
   "execution_count": 5,
   "metadata": {},
   "outputs": [
    {
     "name": "stdout",
     "output_type": "stream",
     "text": [
      "Epoch 1: Class_accuracy: 61.21%\n",
      "Epoch 2: Class_accuracy: 47.82%\n",
      "Epoch 3: Class_accuracy: 58.53%\n",
      "Epoch 4: Class_accuracy: 61.21%\n",
      "Epoch 5: Class_accuracy: 47.82%\n",
      "Epoch 6: Class_accuracy: 61.21%\n",
      "Epoch 7: Class_accuracy: 61.21%\n",
      "Epoch 8: Class_accuracy: 61.21%\n",
      "Epoch 9: Class_accuracy: 56.75%\n",
      "Epoch 10: Class_accuracy: 61.21%\n",
      "Epoch 1: Class_accuracy: 50.99%\n",
      "Epoch 2: Class_accuracy: 51.88%\n",
      "Epoch 3: Class_accuracy: 52.48%\n",
      "Epoch 4: Class_accuracy: 52.38%\n",
      "Epoch 5: Class_accuracy: 52.88%\n",
      "Epoch 6: Class_accuracy: 53.17%\n",
      "Epoch 7: Class_accuracy: 53.57%\n",
      "Epoch 8: Class_accuracy: 53.37%\n",
      "Epoch 9: Class_accuracy: 51.79%\n",
      "Epoch 10: Class_accuracy: 51.59%\n",
      "Epoch 11: Class_accuracy: 51.79%\n",
      "Epoch 12: Class_accuracy: 50.30%\n",
      "Epoch 13: Class_accuracy: 51.79%\n",
      "Epoch 14: Class_accuracy: 51.69%\n",
      "Epoch 15: Class_accuracy: 50.89%\n",
      "Epoch 16: Class_accuracy: 51.19%\n",
      "Epoch 17: Class_accuracy: 51.59%\n",
      "Epoch 18: Class_accuracy: 53.67%\n",
      "Epoch 19: Class_accuracy: 54.56%\n",
      "Epoch 20: Class_accuracy: 52.68%\n",
      "Epoch 21: Class_accuracy: 49.70%\n",
      "Epoch 22: Class_accuracy: 51.39%\n",
      "Epoch 23: Class_accuracy: 50.89%\n",
      "Epoch 24: Class_accuracy: 46.73%\n",
      "Epoch 25: Class_accuracy: 46.43%\n"
     ]
    }
   ],
   "source": [
    "## intial epochs at learning rate 0.0001\n",
    "train_and_evaluate(restNet,Train_Data,Test_Data,Train_Label,Test_Label,10, 0.0001)\n",
    "## Fine tune epochs at learning rate 0.00001\n",
    "train_and_evaluate(restNet,Train_Data,Test_Data,Train_Label,Test_Label,25, 0.00001)\n"
   ]
  },
  {
   "cell_type": "markdown",
   "metadata": {},
   "source": [
    "# Train Student Mobile Net using KD\n"
   ]
  },
  {
   "cell_type": "code",
   "execution_count": 6,
   "metadata": {},
   "outputs": [
    {
     "name": "stdout",
     "output_type": "stream",
     "text": [
      "Epoch 1: Class_accuracy: 61.51%\n",
      "Epoch 2: Class_accuracy: 61.21%\n",
      "Epoch 3: Class_accuracy: 60.81%\n",
      "Epoch 4: Class_accuracy: 49.70%\n",
      "Epoch 5: Class_accuracy: 61.21%\n",
      "Epoch 6: Class_accuracy: 60.42%\n",
      "Epoch 7: Class_accuracy: 61.11%\n",
      "Epoch 8: Class_accuracy: 60.81%\n",
      "Epoch 9: Class_accuracy: 51.29%\n",
      "Epoch 10: Class_accuracy: 42.66%\n",
      "Epoch 1: Class_accuracy: 55.95%\n",
      "Epoch 2: Class_accuracy: 54.76%\n",
      "Epoch 3: Class_accuracy: 55.06%\n",
      "Epoch 4: Class_accuracy: 55.16%\n",
      "Epoch 5: "
     ]
    }
   ],
   "source": [
    "## intial epochs\n",
    "train_and_evaluate_mobileNet_using_KD(mobileNetKD,restNet,Train_Data,Test_Data,Train_Label,Test_Label, 0.5,4, 10, 0.001)\n",
    "## Fine tune epochs\n",
    "train_and_evaluate_mobileNet_using_KD(mobileNetKD,restNet,Train_Data,Test_Data,Train_Label,Test_Label, 0.5,4, 25, 0.0001)"
   ]
  },
  {
   "cell_type": "markdown",
   "metadata": {},
   "source": [
    "# Train another student model from scratch"
   ]
  },
  {
   "cell_type": "code",
   "execution_count": null,
   "metadata": {},
   "outputs": [],
   "source": [
    "## intial epochs\n",
    "train_and_evaluate(mobileNet,Train_Data,Test_Data,Train_Label,Test_Label,10, 0.001)\n",
    "## Fine tune epochs\n",
    "train_and_evaluate(mobileNet,Train_Data,Test_Data,Train_Label,Test_Label,25, 0.0001)\n"
   ]
  },
  {
   "cell_type": "markdown",
   "metadata": {},
   "source": [
    "# Models Testing"
   ]
  },
  {
   "cell_type": "code",
   "execution_count": null,
   "metadata": {},
   "outputs": [],
   "source": [
    "# model testing\n",
    "teacherAcc = testTransferedModel(restNet,Test_Data,Test_Label)\n",
    "studentAcc = testTransferedModel(mobileNet,Test_Data,Test_Label)\n",
    "studentAccKD = testTransferedModel(mobileNetKD,Test_Data,Test_Label)"
   ]
  },
  {
   "cell_type": "markdown",
   "metadata": {},
   "source": [
    "# Temperature Vs Accuracy"
   ]
  },
  {
   "cell_type": "code",
   "execution_count": null,
   "metadata": {},
   "outputs": [],
   "source": [
    "testACC = []\n",
    "tempratureValues = [1, 2, 4, 16, 32, 64]\n",
    "for temp in getMobileNetModel:\n",
    "    st = getMobileNetModel()\n",
    "    train_and_evaluate_mobileNet_using_KD(st,restNet,Train_Data,Test_Data,Train_Label,Test_Label, 0.5,temp, 10, 0.001)\n",
    "    train_and_evaluate_mobileNet_using_KD(st,restNet,Train_Data,Test_Data,Train_Label,Test_Label, 0.5,temp, 25, 0.0001)\n",
    "    testACC += [testTransferedModel(st,Test_Data,Test_Label)]\n",
    "print(testACC)"
   ]
  }
 ],
 "metadata": {
  "kernelspec": {
   "display_name": "Python 3.8.13 ('base')",
   "language": "python",
   "name": "python3"
  },
  "language_info": {
   "codemirror_mode": {
    "name": "ipython",
    "version": 3
   },
   "file_extension": ".py",
   "mimetype": "text/x-python",
   "name": "python",
   "nbconvert_exporter": "python",
   "pygments_lexer": "ipython3",
   "version": "3.8.13"
  },
  "orig_nbformat": 4,
  "vscode": {
   "interpreter": {
    "hash": "680419e0188aaa6743f4a0e8f0e13458aa11f8cd04d9d5e558d5d63e6a49fb4a"
   }
  }
 },
 "nbformat": 4,
 "nbformat_minor": 2
}
