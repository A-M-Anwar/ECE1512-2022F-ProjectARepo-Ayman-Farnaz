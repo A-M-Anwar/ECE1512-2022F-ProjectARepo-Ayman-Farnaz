{
 "cells": [
  {
   "cell_type": "markdown",
   "metadata": {},
   "source": [
    "# Knowledge Distillation in MHIST Dataset"
   ]
  },
  {
   "cell_type": "code",
   "execution_count": null,
   "metadata": {},
   "outputs": [],
   "source": [
    "import os\n",
    "import sys\n",
    "import csv\n",
    "import pandas as pd\n",
    "import tensorflow as tf\n",
    "import numpy as np\n",
    "import math\n",
    "import random\n",
    "\n",
    "module_path = os.path.abspath(os.path.join('..'))\n",
    "if module_path not in sys.path:\n",
    "    sys.path.append(module_path)\n",
    "\n",
    "from Utilities import *"
   ]
  },
  {
   "cell_type": "code",
   "execution_count": null,
   "metadata": {},
   "outputs": [],
   "source": [
    "# Prepare data\n",
    "path = \"mhist_dataset/images\"\n",
    "CSVfile = \"mhist_dataset/annotations.csv\"\n",
    "\n",
    "data, file_names = load_mhist_images(path)\n",
    "labels = pd.read_csv(CSVfile, usecols = [1])\n",
    "Partitions = pd.read_csv(CSVfile, usecols = [3])\n",
    "labels = labels.to_numpy()\n",
    "Partitions = Partitions.to_numpy()\n",
    "X_train = []\n",
    "X_test = []\n",
    "y_train = []\n",
    "y_test = []\n",
    "for i in range(len(data)):\n",
    "    if Partitions[i] == 'train':\n",
    "        X_train.append(data[i])\n",
    "        if (labels[i] == 'SSA'):\n",
    "            y_train.append([1,0])\n",
    "        if (labels[i] == 'HP'):\n",
    "            y_train.append([0,1])\n",
    "    if Partitions[i] == 'test':\n",
    "        X_test.append(data[i])\n",
    "        if (labels[i] == 'SSA'):\n",
    "            y_test.append([1,0])\n",
    "        if (labels[i] == 'HP'):\n",
    "            y_test.append([0,1])\n",
    "\n",
    "c = list(zip(X_train, y_train))\n",
    "random.shuffle(c)\n",
    "X_train, y_train = zip(*c)\n",
    "\n",
    "c = list(zip(X_test, y_test))\n",
    "random.shuffle(c)\n",
    "X_test, y_test = zip(*c)\n",
    "\n",
    "#RotatedX_test = np.rot90(X_test,axes=(-2,-1))\n",
    "#X_test.append(data[RotatedX_test])\n",
    "#for i in range(X_test.shape[0]))\n",
    "    #y_test.append(y_test[i])\n",
    "\n",
    "X_train = np.asarray(X_train)\n",
    "X_test = np.asarray(X_test)\n",
    "y_train = np.asarray(y_train)\n",
    "y_test = np.asarray(y_test)\n",
    "print(X_train.shape)\n",
    "print(X_test.shape)\n",
    "print(y_train.shape)\n",
    "print(y_test.shape)\n",
    "\n",
    "n_batches = 32\n",
    "Train_Data = []\n",
    "Train_Label = []\n",
    "for i in range(math.ceil(X_train.shape[0]/n_batches)):\n",
    "    # Local batches and labels\n",
    "    local_X, local_y = X_train[i*n_batches:(i+1)*n_batches,], y_train[i*n_batches:(i+1)*n_batches,]\n",
    "    Train_Data.append(local_X)\n",
    "    Train_Label.append(local_y)\n",
    "\n",
    "Test_Data = []\n",
    "Test_Label = []\n",
    "for i in range(math.ceil(X_test.shape[0]/n_batches)):\n",
    "    # Local batches and labels\n",
    "    local_X, local_y = X_test[i*n_batches:(i+1)*n_batches,], y_test[i*n_batches:(i+1)*n_batches,]\n",
    "    Test_Data.append(local_X)\n",
    "    Test_Label.append(local_y)\n",
    "\n",
    "print(Train_Data[0].shape)\n",
    "print(Train_Data[-1].shape)\n",
    "print(Test_Data[0].shape)\n",
    "print(Test_Data[-1].shape)"
   ]
  },
  {
   "cell_type": "code",
   "execution_count": null,
   "metadata": {},
   "outputs": [],
   "source": [
    "# Load Resnet\n",
    "resNetBase= tf.keras.applications.resnet_v2.ResNet50V2(\n",
    "    include_top = False,\n",
    "    weights='imagenet',\n",
    "    input_shape=(224,224,3),\n",
    "    pooling=None,\n",
    ")\n",
    "for layer in resNetBase.layers[:-1]:\n",
    "    layer.trainable = False\n",
    "x = tf.keras.layers.Flatten()(resNetBase.output)\n",
    "x = tf.keras.layers.Dense(2)(x)\n",
    "restNet = tf.keras.Model(inputs=resNetBase.input, outputs=x)"
   ]
  },
  {
   "cell_type": "code",
   "execution_count": null,
   "metadata": {},
   "outputs": [],
   "source": [
    "train_evaluate_resnet(restNet,Train_Data,Test_Data,Train_Label,Test_Label)"
   ]
  },
  {
   "cell_type": "code",
   "execution_count": null,
   "metadata": {},
   "outputs": [],
   "source": [
    "studenModel2 = tf.keras.applications.mobilenet_v2.MobileNetV2(\n",
    "    include_top = False,\n",
    "    weights='imagenet',\n",
    "    input_shape=(224,224,3),\n",
    "    pooling=None,\n",
    ")\n",
    "for layer in studenModel2.layers[:-1]:\n",
    "    layer.trainable = False\n",
    "x = tf.keras.layers.Flatten()(studenModel2.output)\n",
    "x = tf.keras.layers.Dense(2)(x)\n",
    "mobileNet = tf.keras.Model(inputs=studenModel2.input, outputs=x)\n"
   ]
  },
  {
   "cell_type": "code",
   "execution_count": null,
   "metadata": {},
   "outputs": [],
   "source": [
    "train_and_evaluate_mobileNet_using_KD(mobileNet,restNet,Train_Data,Test_Data,Train_Label,Test_Label, 0.5,4)"
   ]
  },
  {
   "cell_type": "code",
   "execution_count": null,
   "metadata": {},
   "outputs": [],
   "source": [
    "teachingAssistantAcc = testTransferedModel(restNet,Test_Data,Test_Label)\n",
    "teachingAssistantAcc = testTransferedModel(mobileNet,Test_Data,Test_Label)"
   ]
  },
  {
   "cell_type": "code",
   "execution_count": null,
   "metadata": {},
   "outputs": [],
   "source": [
    "testACC = []\n",
    "tempratureValues = [1, 2, 4, 16, 32, 64]\n",
    "for temp in tempratureValues:\n",
    "    st = getStudentModel()\n",
    "    train_and_evaluate_mobileNet_using_KD(mobileNet,restNet,Train_Data,Test_Data,Train_Label,Test_Label, 0.5,4)\n",
    "    testACC += [testTransferedModel(mobileNet,Test_Data,Test_Label)]\n",
    "print(testACC)"
   ]
  }
 ],
 "metadata": {
  "kernelspec": {
   "display_name": "Python 3.8.13 ('base')",
   "language": "python",
   "name": "python3"
  },
  "language_info": {
   "codemirror_mode": {
    "name": "ipython",
    "version": 3
   },
   "file_extension": ".py",
   "mimetype": "text/x-python",
   "name": "python",
   "nbconvert_exporter": "python",
   "pygments_lexer": "ipython3",
   "version": "3.8.13"
  },
  "orig_nbformat": 4,
  "vscode": {
   "interpreter": {
    "hash": "680419e0188aaa6743f4a0e8f0e13458aa11f8cd04d9d5e558d5d63e6a49fb4a"
   }
  }
 },
 "nbformat": 4,
 "nbformat_minor": 2
}
