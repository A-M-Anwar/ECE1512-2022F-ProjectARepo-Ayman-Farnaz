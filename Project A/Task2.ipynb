{
 "cells": [
  {
   "cell_type": "markdown",
   "metadata": {},
   "source": [
    "# Knowledge Distillation in MHIST Dataset"
   ]
  },
  {
   "cell_type": "code",
   "execution_count": 30,
   "metadata": {},
   "outputs": [],
   "source": [
    "import os\n",
    "import sys\n",
    "import cv2\n",
    "import csv\n",
    "import pandas as pd\n",
    "import tensorflow as tf\n",
    "import numpy as np\n",
    "import matplotlib.pyplot as plt\n",
    "import math\n",
    "import random\n",
    "\n",
    "module_path = os.path.abspath(os.path.join('..'))\n",
    "if module_path not in sys.path:\n",
    "    sys.path.append(module_path)\n",
    "\n",
    "from Utilities import *"
   ]
  },
  {
   "cell_type": "code",
   "execution_count": 31,
   "metadata": {},
   "outputs": [
    {
     "name": "stdout",
     "output_type": "stream",
     "text": [
      "(2175, 224, 224, 3)\n",
      "(977, 224, 224, 3)\n",
      "(2175, 2)\n",
      "(977, 2)\n",
      "(32, 224, 224, 3)\n",
      "(32, 224, 224, 3)\n",
      "(32, 224, 224, 3)\n",
      "(32, 224, 224, 3)\n",
      "(32, 224, 224, 3)\n",
      "(32, 224, 224, 3)\n",
      "(32, 224, 224, 3)\n",
      "(32, 224, 224, 3)\n",
      "(32, 224, 224, 3)\n",
      "(32, 224, 224, 3)\n",
      "(32, 224, 224, 3)\n",
      "(32, 224, 224, 3)\n",
      "(32, 224, 224, 3)\n",
      "(32, 224, 224, 3)\n",
      "(32, 224, 224, 3)\n",
      "(32, 224, 224, 3)\n",
      "(32, 224, 224, 3)\n",
      "(32, 224, 224, 3)\n",
      "(32, 224, 224, 3)\n",
      "(32, 224, 224, 3)\n",
      "(32, 224, 224, 3)\n",
      "(32, 224, 224, 3)\n",
      "(32, 224, 224, 3)\n",
      "(32, 224, 224, 3)\n",
      "(32, 224, 224, 3)\n",
      "(32, 224, 224, 3)\n",
      "(32, 224, 224, 3)\n",
      "(32, 224, 224, 3)\n",
      "(32, 224, 224, 3)\n",
      "(32, 224, 224, 3)\n",
      "(17, 224, 224, 3)\n"
     ]
    }
   ],
   "source": [
    "def load_images_from_folder(folder):\n",
    "    images = []\n",
    "    file_names = []\n",
    "    for filename in os.listdir(folder):\n",
    "        img = cv2.imread(os.path.join(folder,filename))\n",
    "        if img is not None:\n",
    "            images.append(img)\n",
    "            file_names.append(filename)\n",
    "    return images, file_names\n",
    "\n",
    "path = \"mhist_dataset/images\"\n",
    "data, file_names = load_images_from_folder(path)\n",
    "CSVfile = \"mhist_dataset/annotations.csv\"\n",
    "\n",
    "labels = pd.read_csv(CSVfile, usecols = [1])\n",
    "Partitions = pd.read_csv(CSVfile, usecols = [3])\n",
    "labels = labels.to_numpy()\n",
    "Partitions = Partitions.to_numpy()\n",
    "X_train = []\n",
    "X_test = []\n",
    "y_train = []\n",
    "y_test = []\n",
    "for i in range(len(data)):\n",
    "    if Partitions[i] == 'train':\n",
    "        X_train.append(data[i])\n",
    "        if (labels[i] == 'SSA'):\n",
    "            y_train.append([1,0])\n",
    "        if (labels[i] == 'HP'):\n",
    "            y_train.append([0,1])\n",
    "    if Partitions[i] == 'test':\n",
    "        X_test.append(data[i])\n",
    "        if (labels[i] == 'SSA'):\n",
    "            y_test.append([1,0])\n",
    "        if (labels[i] == 'HP'):\n",
    "            y_test.append([0,1])\n",
    "\n",
    "c = list(zip(X_train, y_train))\n",
    "random.shuffle(c)\n",
    "X_train, y_train = zip(*c)\n",
    "\n",
    "c = list(zip(X_test, y_test))\n",
    "random.shuffle(c)\n",
    "X_test, y_test = zip(*c)\n",
    "\n",
    "#RotatedX_test = np.rot90(X_test,axes=(-2,-1))\n",
    "#X_test.append(data[RotatedX_test])\n",
    "#for i in range(X_test.shape[0]))\n",
    "    #y_test.append(y_test[i])\n",
    "\n",
    "X_train = np.asarray(X_train)\n",
    "X_test = np.asarray(X_test)\n",
    "y_train = np.asarray(y_train)\n",
    "y_test = np.asarray(y_test)\n",
    "print(X_train.shape)\n",
    "print(X_test.shape)\n",
    "print(y_train.shape)\n",
    "print(y_test.shape)\n",
    "\n",
    "n_batches = 32\n",
    "Train_Data = []\n",
    "Train_Label = []\n",
    "for i in range(math.ceil(X_train.shape[0]/n_batches)):\n",
    "    # Local batches and labels\n",
    "    local_X, local_y = X_train[i*n_batches:(i+1)*n_batches,], y_train[i*n_batches:(i+1)*n_batches,]\n",
    "    #print(local_X.shape)\n",
    "    Train_Data.append(local_X)\n",
    "    Train_Label.append(local_y)\n",
    "\n",
    "Test_Data = []\n",
    "Test_Label = []\n",
    "for i in range(math.ceil(X_test.shape[0]/n_batches)):\n",
    "    # Local batches and labels\n",
    "    local_X, local_y = X_test[i*n_batches:(i+1)*n_batches,], y_test[i*n_batches:(i+1)*n_batches,]\n",
    "    print(local_X.shape)\n",
    "    Test_Data.append(local_X)\n",
    "    Test_Label.append(local_y)\n",
    "\n",
    "#Train_Data = np.asarray(Train_Data)\n",
    "#Train_Label = np.asarray(Train_Label)\n",
    "#Test_Data = np.asarray(Test_Data)\n",
    "#Test_Label = np.asarray(Test_Label)\n",
    "#print(Train_Data[0])\n",
    "#print(Test_Data.shape[0])"
   ]
  },
  {
   "cell_type": "code",
   "execution_count": 32,
   "metadata": {},
   "outputs": [],
   "source": [
    "def train_evaluate_resnet(model,trainingData, testingData, trainingLabel, testLabel):\n",
    "    \"\"\"Perform training and evaluation for the teacher model model.\n",
    "\n",
    "    Args:\n",
    "    model: Instance of tf.keras.Model.\n",
    "    compute_loss_fn: A function that computes the training loss given the\n",
    "        images, and labels.\n",
    "    \"\"\"\n",
    "\n",
    "    # your code start from here for step 4\n",
    "    optimizer = tf.keras.optimizers.Adam(learning_rate=0.001)\n",
    "\n",
    "    for epoch in range(1, NUM_EPOCHS + 1):\n",
    "        # Run training.\n",
    "        print('Epoch {}: '.format(epoch), end='')\n",
    "        for i in range(math.ceil(X_train.shape[0]/n_batches)):\n",
    "            with tf.GradientTape() as tape:\n",
    "                loss_value = compute_loss(model,trainingData[i],trainingLabel[i])\n",
    "            grads = tape.gradient(loss_value, model.trainable_variables)\n",
    "            optimizer.apply_gradients(zip(grads, model.trainable_variables))\n",
    "\n",
    "        # Run evaluation.\n",
    "        num_correct = 0\n",
    "        num_total = X_test.shape[0]\n",
    "        for i in range(math.ceil(X_test.shape[0]/n_batches)):\n",
    "            # your code start from here for step 4\n",
    "            num_correct += compute_num_correct(model,testingData[i],testLabel[i])[0]\n",
    "        print(\"Class_accuracy: \" + '{:.2f}%'.format(num_correct / num_total * 100))"
   ]
  },
  {
   "cell_type": "code",
   "execution_count": 33,
   "metadata": {},
   "outputs": [],
   "source": [
    "# Load Resnet\n",
    "resNetBase= tf.keras.applications.resnet_v2.ResNet50V2(\n",
    "    include_top = False,\n",
    "    weights='imagenet',\n",
    "    input_shape=(224,224,3),\n",
    "    pooling=None,\n",
    ")\n",
    "for layer in resNetBase.layers[:-2]:\n",
    "    layer.trainable = False\n",
    "x = tf.keras.layers.Flatten()(resNetBase.output)\n",
    "x = tf.keras.layers.Dense(2)(x)\n",
    "restNet = tf.keras.Model(inputs=resNetBase.input, outputs=x)"
   ]
  },
  {
   "cell_type": "code",
   "execution_count": 34,
   "metadata": {},
   "outputs": [
    {
     "name": "stdout",
     "output_type": "stream",
     "text": [
      "Epoch 1: Class_accuracy: 43.09%\n",
      "Epoch 2: Class_accuracy: 62.23%\n",
      "Epoch 3: Class_accuracy: 49.85%\n",
      "Epoch 4: Class_accuracy: 49.44%\n"
     ]
    }
   ],
   "source": [
    "train_evaluate_resnet(restNet,Train_Data,Test_Data,Train_Label,Test_Label)"
   ]
  },
  {
   "cell_type": "code",
   "execution_count": 35,
   "metadata": {},
   "outputs": [],
   "source": [
    "def train_and_evaluate_mobileNet_using_KD(studentModel, teacherModel,trainingData, testingData, trainingLabel, testLabel, alpha, temprature):\n",
    "    \"\"\"Perform training and evaluation for the teacher model model.\n",
    "\n",
    "    Args:\n",
    "    model: Instance of tf.keras.Model.\n",
    "    compute_loss_fn: A function that computes the training loss given the\n",
    "        images, and labels.\n",
    "    \"\"\"\n",
    "\n",
    "    # your code start from here for step 4\n",
    "    optimizer = tf.keras.optimizers.Adam(learning_rate=0.001)\n",
    "\n",
    "    for epoch in range(1, NUM_EPOCHS + 1):\n",
    "        # Run training.\n",
    "        print('Epoch {}: '.format(epoch), end='')\n",
    "        for i in range(math.ceil(X_train.shape[0]/n_batches)):\n",
    "            with tf.GradientTape() as tape:\n",
    "                loss_value = compute_student_loss_using_KD(studentModel, teacherModel,trainingData[i],trainingLabel[i], alpha, temprature)\n",
    "            grads = tape.gradient(loss_value, studentModel.trainable_variables)\n",
    "            optimizer.apply_gradients(zip(grads, studentModel.trainable_variables))\n",
    "\n",
    "        # Run evaluation.\n",
    "        num_correct = 0\n",
    "        num_total = X_test.shape[0]\n",
    "        for i in range(math.ceil(X_test.shape[0]/n_batches)):\n",
    "            # your code start from here for step 4\n",
    "            num_correct += compute_num_correct(studentModel,testingData[i],testLabel[i])[0]\n",
    "        print(\"Class_accuracy: \" + '{:.2f}%'.format(num_correct / num_total * 100))"
   ]
  },
  {
   "cell_type": "code",
   "execution_count": 36,
   "metadata": {},
   "outputs": [],
   "source": [
    "studenModel2 = tf.keras.applications.mobilenet_v2.MobileNetV2(\n",
    "    include_top = False,\n",
    "    weights='imagenet',\n",
    "    input_shape=(224,224,3),\n",
    "    pooling=None,\n",
    ")\n",
    "for layer in studenModel2.layers[:-2]:\n",
    "    layer.trainable = False\n",
    "x = tf.keras.layers.Flatten()(studenModel2.output)\n",
    "x = tf.keras.layers.Dense(2)(x)\n",
    "mobileNet = tf.keras.Model(inputs=studenModel2.input, outputs=x)\n"
   ]
  },
  {
   "cell_type": "code",
   "execution_count": 37,
   "metadata": {},
   "outputs": [
    {
     "name": "stdout",
     "output_type": "stream",
     "text": [
      "Epoch 1: Class_accuracy: 48.93%\n",
      "Epoch 2: Class_accuracy: 57.01%\n",
      "Epoch 3: Class_accuracy: 58.65%\n",
      "Epoch 4: Class_accuracy: 57.63%\n"
     ]
    }
   ],
   "source": [
    "train_and_evaluate_mobileNet_using_KD(mobileNet,restNet,Train_Data,Test_Data,Train_Label,Test_Label, 0.5,4)"
   ]
  },
  {
   "cell_type": "code",
   "execution_count": 38,
   "metadata": {},
   "outputs": [],
   "source": [
    "def testModel(model,testData, testLabel):\n",
    "    num_correct = 0\n",
    "    num_total = 977\n",
    "\n",
    "    for i in range(math.ceil(X_test.shape[0]/n_batches)):\n",
    "        num_correct += compute_num_correct(model,testData[i],testLabel[i])[0]\n",
    "    print(\"model Testing Accuracy: \" + '{:.2f}%'.format(\n",
    "        (num_correct / num_total) * 100))\n",
    "    return (num_correct / num_total) * 100"
   ]
  },
  {
   "cell_type": "code",
   "execution_count": 39,
   "metadata": {},
   "outputs": [
    {
     "name": "stdout",
     "output_type": "stream",
     "text": [
      "model Testing Accuracy: 49.44%\n",
      "model Testing Accuracy: 57.63%\n"
     ]
    }
   ],
   "source": [
    "teachingAssistantAcc = testModel(restNet,Test_Data,Test_Label)\n",
    "teachingAssistantAcc = testModel(mobileNet,Test_Data,Test_Label)"
   ]
  },
  {
   "cell_type": "code",
   "execution_count": 40,
   "metadata": {},
   "outputs": [
    {
     "name": "stdout",
     "output_type": "stream",
     "text": [
      "Epoch 1: Class_accuracy: 61.00%\n",
      "Epoch 2: Class_accuracy: 53.33%\n",
      "Epoch 3: Class_accuracy: 46.37%\n",
      "Epoch 4: Class_accuracy: 60.18%\n",
      "model Testing Accuracy: 60.18%\n",
      "Epoch 1: Class_accuracy: 49.74%\n",
      "Epoch 2: "
     ]
    }
   ],
   "source": [
    "testACC = []\n",
    "tempratureValues = [1, 2, 4, 16, 32, 64]\n",
    "for temp in tempratureValues:\n",
    "    st = getStudentModel()\n",
    "    train_and_evaluate_mobileNet_using_KD(mobileNet,restNet,Train_Data,Test_Data,Train_Label,Test_Label, 0.5,4)\n",
    "    testACC += [testModel(mobileNet,Test_Data,Test_Label)]\n",
    "print(testACC)"
   ]
  }
 ],
 "metadata": {
  "kernelspec": {
   "display_name": "Python 3.8.13 ('base')",
   "language": "python",
   "name": "python3"
  },
  "language_info": {
   "codemirror_mode": {
    "name": "ipython",
    "version": 3
   },
   "file_extension": ".py",
   "mimetype": "text/x-python",
   "name": "python",
   "nbconvert_exporter": "python",
   "pygments_lexer": "ipython3",
   "version": "3.8.13"
  },
  "orig_nbformat": 4,
  "vscode": {
   "interpreter": {
    "hash": "680419e0188aaa6743f4a0e8f0e13458aa11f8cd04d9d5e558d5d63e6a49fb4a"
   }
  }
 },
 "nbformat": 4,
 "nbformat_minor": 2
}
