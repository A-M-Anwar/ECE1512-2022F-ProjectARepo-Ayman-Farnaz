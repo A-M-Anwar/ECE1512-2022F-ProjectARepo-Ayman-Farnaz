{
 "cells": [
  {
   "cell_type": "markdown",
   "metadata": {},
   "source": [
    "# Knowledge Distillation in MHIST Dataset"
   ]
  },
  {
   "cell_type": "code",
   "execution_count": 1,
   "metadata": {},
   "outputs": [],
   "source": [
    "import os\n",
    "import sys\n",
    "import cv2\n",
    "import csv\n",
    "import pandas as pd\n",
    "import tensorflow as tf\n",
    "import numpy as np\n",
    "import matplotlib.pyplot as plt\n",
    "\n",
    "module_path = os.path.abspath(os.path.join('..'))\n",
    "if module_path not in sys.path:\n",
    "    sys.path.append(module_path)\n",
    "\n",
    "from Utilities import *"
   ]
  },
  {
   "cell_type": "code",
   "execution_count": 2,
   "metadata": {},
   "outputs": [
    {
     "name": "stdout",
     "output_type": "stream",
     "text": [
      "(2175, 224, 224, 3)\n",
      "(977, 224, 224, 3)\n",
      "(2175, 2)\n",
      "(977, 2)\n"
     ]
    }
   ],
   "source": [
    "def load_images_from_folder(folder):\n",
    "    images = []\n",
    "    file_names = []\n",
    "    for filename in os.listdir(folder):\n",
    "        img = cv2.imread(os.path.join(folder,filename))\n",
    "        if img is not None:\n",
    "            images.append(img)\n",
    "            file_names.append(filename)\n",
    "    return images, file_names\n",
    "\n",
    "path = \"mhist_dataset/images\"\n",
    "data, file_names = load_images_from_folder(path)\n",
    "CSVfile = \"mhist_dataset/annotations.csv\"\n",
    "\n",
    "labels = pd.read_csv(CSVfile, usecols = [1])\n",
    "Partitions = pd.read_csv(CSVfile, usecols = [3])\n",
    "labels = labels.to_numpy()\n",
    "Partitions = Partitions.to_numpy()\n",
    "X_train = []\n",
    "X_test = []\n",
    "y_train = []\n",
    "y_test = []\n",
    "for i in range(len(data)):\n",
    "    if Partitions[i] == 'train':\n",
    "        X_train.append(data[i])\n",
    "        if (labels[i] == 'SSA'):\n",
    "            y_train.append([1,0])\n",
    "        if (labels[i] == 'HP'):\n",
    "            y_train.append([0,1])\n",
    "    if Partitions[i] == 'test':\n",
    "        X_test.append(data[i])\n",
    "        if (labels[i] == 'SSA'):\n",
    "            y_test.append([1,0])\n",
    "        if (labels[i] == 'HP'):\n",
    "            y_test.append([0,1])\n",
    "X_train = np.asarray(X_train)\n",
    "X_test = np.asarray(X_test)\n",
    "y_train = np.asarray(y_train)\n",
    "y_test = np.asarray(y_test)\n",
    "print(X_train.shape)\n",
    "print(X_test.shape)\n",
    "print(y_train.shape)\n",
    "print(y_test.shape)"
   ]
  },
  {
   "cell_type": "code",
   "execution_count": 3,
   "metadata": {},
   "outputs": [],
   "source": [
    "# Load Resnet\n",
    "resNetBase= tf.keras.applications.resnet_v2.ResNet50V2(\n",
    "    include_top = False,\n",
    "    weights='imagenet',\n",
    "    input_shape=(224,224,3),\n",
    "    pooling=None,\n",
    ")\n",
    "for layer in resNetBase.layers:\n",
    "    layer.trainable = False\n",
    "x = tf.keras.layers.Flatten()(resNetBase.output)\n",
    "x = tf.keras.layers.Dense(2)(x)\n",
    "restNet = tf.keras.Model(inputs=resNetBase.input, outputs=x)"
   ]
  },
  {
   "cell_type": "code",
   "execution_count": 4,
   "metadata": {},
   "outputs": [
    {
     "name": "stdout",
     "output_type": "stream",
     "text": [
      "Epoch 1: Class_accuracy: 18.12%\n",
      "Epoch 2: Class_accuracy: 18.12%\n"
     ]
    }
   ],
   "source": [
    "train_evaluate_resnet(restNet,X_train,X_test, y_train, y_test)"
   ]
  },
  {
   "cell_type": "code",
   "execution_count": 5,
   "metadata": {},
   "outputs": [],
   "source": [
    "studenModel2 = tf.keras.applications.mobilenet_v2.MobileNetV2(\n",
    "    include_top = False,\n",
    "    weights='imagenet',\n",
    "    input_shape=(224,224,3),\n",
    "    pooling=None,\n",
    ")\n",
    "for layer in studenModel2.layers:\n",
    "    layer.trainable = False\n",
    "x = tf.keras.layers.Flatten()(studenModel2.output)\n",
    "x = tf.keras.layers.Dense(2)(x)\n",
    "mobileNet = tf.keras.Model(inputs=studenModel2.input, outputs=x)\n"
   ]
  },
  {
   "cell_type": "code",
   "execution_count": 6,
   "metadata": {},
   "outputs": [
    {
     "name": "stdout",
     "output_type": "stream",
     "text": [
      "Epoch 1: Class_accuracy: 1.77%\n",
      "Epoch 2: Class_accuracy: 1.77%\n"
     ]
    }
   ],
   "source": [
    "train_and_evaluate_mobileNet_using_KD(mobileNet,restNet,X_train,X_test, y_train, y_test, 0.5,4)"
   ]
  }
 ],
 "metadata": {
  "kernelspec": {
   "display_name": "Python 3.8.13 ('base')",
   "language": "python",
   "name": "python3"
  },
  "language_info": {
   "codemirror_mode": {
    "name": "ipython",
    "version": 3
   },
   "file_extension": ".py",
   "mimetype": "text/x-python",
   "name": "python",
   "nbconvert_exporter": "python",
   "pygments_lexer": "ipython3",
   "version": "3.8.13"
  },
  "orig_nbformat": 4,
  "vscode": {
   "interpreter": {
    "hash": "680419e0188aaa6743f4a0e8f0e13458aa11f8cd04d9d5e558d5d63e6a49fb4a"
   }
  }
 },
 "nbformat": 4,
 "nbformat_minor": 2
}
