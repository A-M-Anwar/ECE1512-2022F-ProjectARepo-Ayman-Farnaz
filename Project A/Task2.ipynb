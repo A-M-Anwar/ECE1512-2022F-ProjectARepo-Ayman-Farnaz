{
 "cells": [
  {
   "cell_type": "markdown",
   "metadata": {},
   "source": [
    "# Knowledge Distillation in MHIST Dataset"
   ]
  },
  {
   "cell_type": "code",
   "execution_count": 1,
   "metadata": {},
   "outputs": [],
   "source": [
    "import os\n",
    "import sys\n",
    "import numpy as np\n",
    "import random\n",
    "import matplotlib.pyplot as plt\n",
    "\n",
    "module_path = os.path.abspath(os.path.join('..'))\n",
    "if module_path not in sys.path:\n",
    "    sys.path.append(module_path)\n",
    "\n",
    "plt.style.use('_mpl-gallery')\n",
    "\n",
    "from Utilities import *"
   ]
  },
  {
   "cell_type": "markdown",
   "metadata": {},
   "source": [
    "# Load dataset"
   ]
  },
  {
   "cell_type": "code",
   "execution_count": 2,
   "metadata": {},
   "outputs": [],
   "source": [
    "# Prepare data\n",
    "path = \"mhist_dataset/images\"\n",
    "CSVfile = \"mhist_dataset/annotations.csv\"\n",
    "\n",
    "data, file_names = load_mhist_images(path)\n",
    "X_train, y_train, X_test, y_test = loadMHIST(CSVfile,data)\n",
    "\n",
    "# Data Augmentation\n",
    "AugmentedData = []\n",
    "AugmentedLabel = []\n",
    "for i in range(len(X_train)):\n",
    "    if((y_train[i]==(1,0)).all()):\n",
    "        AugmentedData.append(cv2.rotate(X_train[i], cv2.ROTATE_90_CLOCKWISE))\n",
    "        AugmentedLabel.append([1,0])\n",
    "X_train = np.concatenate((X_train, AugmentedData))\n",
    "y_train = np.concatenate((y_train, AugmentedLabel))\n",
    "c = list(zip(X_train, y_train))\n",
    "\n",
    "random.shuffle(c)\n",
    "\n",
    "X_train, y_train = zip(*c)\n",
    "X_train = np.asarray(X_train)\n",
    "y_train = np.asarray(y_train)\n",
    "\n",
    "# Data Normalization\n",
    "X_train = X_train-np.mean(X_train)/np.std(X_train)\n",
    "X_test = X_test-np.mean(X_train)/np.std(X_train)\n",
    "\n",
    "# Data Batching\n",
    "Train_Data, Train_Label, Test_Data, Test_Label = dataBatching(X_train, y_train, X_test, y_test)\n"
   ]
  },
  {
   "cell_type": "markdown",
   "metadata": {},
   "source": [
    "# Train Teacher Model (Resnet)"
   ]
  },
  {
   "cell_type": "code",
   "execution_count": null,
   "metadata": {},
   "outputs": [],
   "source": [
    "resNetBase= tf.keras.applications.resnet_v2.ResNet50V2(\n",
    "        include_top = False,\n",
    "        weights='imagenet',\n",
    "        input_shape=(224,224,3),\n",
    "        pooling=None,\n",
    "    )\n",
    "for layer in resNetBase.layers[:]:\n",
    "  layer.trainable = False\n",
    "x = tf.keras.layers.Flatten()(resNetBase.output)\n",
    "x = tf.keras.layers.Dense(2)(x)\n",
    "restNet = tf.keras.Model(inputs=resNetBase.input, outputs=x)\n",
    "\n",
    "## intial epochs at learning rate 0.0001\n",
    "TrainResAcc1 = train_and_evaluate(restNet,Train_Data,Test_Data,Train_Label,Test_Label,10, 0.0001)\n",
    "\n",
    "## Fine tune epochs at learning rate 0.00001\n",
    "resNetBase.trainable = True\n",
    "TrainResAcc2 = train_and_evaluate(restNet,Train_Data,Test_Data,Train_Label,Test_Label,25, 0.00001)\n"
   ]
  },
  {
   "cell_type": "code",
   "execution_count": null,
   "metadata": {},
   "outputs": [],
   "source": [
    "TrainResAcc = TrainResAcc1 + TrainResAcc2"
   ]
  },
  {
   "cell_type": "markdown",
   "metadata": {},
   "source": [
    "# Train Student Mobile Net using KD\n"
   ]
  },
  {
   "cell_type": "code",
   "execution_count": null,
   "metadata": {},
   "outputs": [],
   "source": [
    "studenModel2 = tf.keras.applications.mobilenet_v2.MobileNetV2(\n",
    "        include_top = False,\n",
    "        weights='imagenet',\n",
    "        input_shape=(224,224,3),\n",
    "        pooling=None,\n",
    "    )\n",
    "for layer in studenModel2.layers[:]:\n",
    "  layer.trainable = False\n",
    "x = tf.keras.layers.Flatten()(studenModel2.output)\n",
    "x = tf.keras.layers.Dense(2)(x)\n",
    "mobileNetKD = tf.keras.Model(inputs=studenModel2.input, outputs=x)\n",
    "\n",
    "## intial epochs\n",
    "TrainMobileKDAcc1 = train_and_evaluate_mobileNet_using_KD(mobileNetKD,restNet,Train_Data,Test_Data,Train_Label,Test_Label, 0.5,4, 10, 0.001)\n",
    "\n",
    "## Fine tune epochs\n",
    "studenModel2.trainable = True\n",
    "TrainMobileKDAcc2 = train_and_evaluate_mobileNet_using_KD(mobileNetKD,restNet,Train_Data,Test_Data,Train_Label,Test_Label, 0.5,4, 25, 0.0001)"
   ]
  },
  {
   "cell_type": "code",
   "execution_count": null,
   "metadata": {},
   "outputs": [],
   "source": [
    "TrainMobileKDAcc = TrainMobileKDAcc1 + TrainMobileKDAcc2"
   ]
  },
  {
   "cell_type": "markdown",
   "metadata": {},
   "source": [
    "# Train another student model from scratch"
   ]
  },
  {
   "cell_type": "code",
   "execution_count": null,
   "metadata": {},
   "outputs": [],
   "source": [
    "studenModel2 = tf.keras.applications.mobilenet_v2.MobileNetV2(\n",
    "        include_top = False,\n",
    "        weights='imagenet',\n",
    "        input_shape=(224,224,3),\n",
    "        pooling=None,\n",
    "    )\n",
    "for layer in studenModel2.layers[:]:\n",
    "  layer.trainable = False\n",
    "x = tf.keras.layers.Flatten()(studenModel2.output)\n",
    "x = tf.keras.layers.Dense(2)(x)\n",
    "mobileNet = tf.keras.Model(inputs=studenModel2.input, outputs=x)\n",
    "\n",
    "## intial epochs\n",
    "TrainMobileAcc1 = train_and_evaluate(mobileNet,Train_Data,Test_Data,Train_Label,Test_Label,10, 0.001)\n",
    "## Fine tune epochs\n",
    "studenModel2.trainable = True\n",
    "TrainMobileAcc2 = train_and_evaluate(mobileNet,Train_Data,Test_Data,Train_Label,Test_Label,25, 0.0001)\n"
   ]
  },
  {
   "cell_type": "code",
   "execution_count": null,
   "metadata": {},
   "outputs": [],
   "source": [
    "TrainMobileAcc = TrainMobileAcc1 + TrainMobileAcc2"
   ]
  },
  {
   "cell_type": "markdown",
   "metadata": {},
   "source": [
    "# Models Testing"
   ]
  },
  {
   "cell_type": "code",
   "execution_count": 10,
   "metadata": {},
   "outputs": [
    {
     "name": "stdout",
     "output_type": "stream",
     "text": [
      "model Testing Accuracy: 50.79%\n",
      "model Testing Specificity: 35.28%\n",
      "model Testing Sensitivity: 62.40%\n",
      "model Testing Accuracy: 52.88%\n",
      "model Testing Specificity: 26.11%\n",
      "model Testing Sensitivity: 71.15%\n",
      "model Testing Accuracy: 58.83%\n",
      "model Testing Specificity: 11.67%\n",
      "model Testing Sensitivity: 89.30%\n"
     ]
    }
   ],
   "source": [
    "# model testing. returning test accuracy, specificity and sensitivity\n",
    "teacherAcc = testTransferedModel(restNet,Test_Data,Test_Label)\n",
    "studentAcc = testTransferedModel(mobileNet,Test_Data,Test_Label)\n",
    "studentAccKD = testTransferedModel(mobileNetKD,Test_Data,Test_Label)"
   ]
  },
  {
   "cell_type": "markdown",
   "metadata": {},
   "source": [
    "# Temperature Vs Accuracy"
   ]
  },
  {
   "cell_type": "code",
   "execution_count": null,
   "metadata": {},
   "outputs": [],
   "source": [
    "resNetBase= tf.keras.applications.resnet_v2.ResNet50V2(\n",
    "        include_top = False,\n",
    "        weights='imagenet',\n",
    "        input_shape=(224,224,3),\n",
    "        pooling=None,\n",
    "    )\n",
    "for layer in resNetBase.layers[:]:\n",
    "  layer.trainable = False\n",
    "x = tf.keras.layers.Flatten()(resNetBase.output)\n",
    "x = tf.keras.layers.Dense(2)(x)\n",
    "restNet = tf.keras.Model(inputs=resNetBase.input, outputs=x)\n",
    "\n",
    "testF1Score = []\n",
    "tempratureValues = [1, 2, 4, 16, 32, 64]\n",
    "for temp in tempratureValues:\n",
    "    studenModel2 = tf.keras.applications.mobilenet_v2.MobileNetV2(\n",
    "        include_top = False,\n",
    "        weights='imagenet',\n",
    "        input_shape=(224,224,3),\n",
    "        pooling=None,\n",
    "    )\n",
    "    for layer in studenModel2.layers[:]:\n",
    "        layer.trainable = False\n",
    "    x = tf.keras.layers.Flatten()(studenModel2.output)\n",
    "    x = tf.keras.layers.Dense(2)(x)\n",
    "    st = tf.keras.Model(inputs=studenModel2.input, outputs=x)\n",
    "\n",
    "    # initial epochs\n",
    "    train_and_evaluate_mobileNet_using_KD(st,restNet,Train_Data,Test_Data,Train_Label,Test_Label, 0.5,temp, 10, 0.001)\n",
    "\n",
    "    # fine tuning\n",
    "    studenModel2.trainable = True\n",
    "    train_and_evaluate_mobileNet_using_KD(st,restNet,Train_Data,Test_Data,Train_Label,Test_Label, 0.5,temp, 25, 0.0001)\n",
    "    testF1Score += [testTransferedModel(st,Test_Data,Test_Label)]"
   ]
  },
  {
   "cell_type": "code",
   "execution_count": null,
   "metadata": {},
   "outputs": [],
   "source": [
    "print(testF1Score)"
   ]
  },
  {
   "cell_type": "code",
   "execution_count": null,
   "metadata": {},
   "outputs": [],
   "source": [
    "f, ax = plt.subplots(figsize=(16, 4))\n",
    "ax.plot(TrainResAcc, label = \"Teacher model\")\n",
    "ax.plot(TrainMobileKDAcc, label = 'Student model trained using KD')\n",
    "ax.plot(TrainMobileAcc, label = 'Student model trained from scratch')\n",
    "ax.set_xlabel('Epoch', fontsize = 16)\n",
    "ax.set_ylabel('Accuracy (%)', fontsize = 16)\n",
    "ax.set_title(' Training Accuracy', fontsize = 20)\n",
    "ax.legend()\n",
    "plt.show()\n",
    "f.savefig('Figures/fig3.png', bbox_inches='tight')\n",
    "\n"
   ]
  },
  {
   "cell_type": "code",
   "execution_count": null,
   "metadata": {},
   "outputs": [],
   "source": [
    "f, ax = plt.subplots(figsize=(16, 4))\n",
    "tempratureValues = [1, 2, 4, 16, 32, 64]\n",
    "# F1 Score calculated for test data\n",
    "ax.plot(tempratureValues, testF1Score)\n",
    "ax.set_xlabel('Temperature', fontsize = 16)\n",
    "ax.set_ylabel('F1 Score (%)', fontsize = 16)\n",
    "ax.set_title('F1 Score of Student Model trained using KD vs Temperature', fontsize = 20)\n",
    "ax.legend()\n",
    "plt.show()\n",
    "f.savefig('Figures/fig11.png', bbox_inches='tight')"
   ]
  },
  {
   "cell_type": "code",
   "execution_count": null,
   "metadata": {},
   "outputs": [],
   "source": [
    "# your code start from here for step 8\n",
    "from keras_flops import get_flops\n",
    "TeacherParameters = restNet.summary()\n",
    "StudentParameters = mobileNetKD.summary()\n",
    "\n",
    "flops = get_flops(restNet, batch_size=1)\n",
    "print(f\"FLOPS: {flops / 10 ** 9:.03} G\")\n",
    "\n",
    "flops = get_flops(mobileNetKD, batch_size=1)\n",
    "print(f\"FLOPS: {flops / 10 ** 9:.03} G\")"
   ]
  }
 ],
 "metadata": {
  "kernelspec": {
   "display_name": "Python 3.8.13 ('base')",
   "language": "python",
   "name": "python3"
  },
  "language_info": {
   "codemirror_mode": {
    "name": "ipython",
    "version": 3
   },
   "file_extension": ".py",
   "mimetype": "text/x-python",
   "name": "python",
   "nbconvert_exporter": "python",
   "pygments_lexer": "ipython3",
   "version": "3.8.13"
  },
  "orig_nbformat": 4,
  "vscode": {
   "interpreter": {
    "hash": "680419e0188aaa6743f4a0e8f0e13458aa11f8cd04d9d5e558d5d63e6a49fb4a"
   }
  }
 },
 "nbformat": 4,
 "nbformat_minor": 2
}
