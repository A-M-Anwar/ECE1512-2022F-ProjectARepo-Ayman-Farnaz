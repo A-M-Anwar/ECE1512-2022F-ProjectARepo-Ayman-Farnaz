{
 "cells": [
  {
   "cell_type": "code",
   "execution_count": null,
   "metadata": {},
   "outputs": [],
   "source": []
  }
 ],
 "metadata": {
  "kernelspec": {
   "display_name": "Python 3.9.15 ('base')",
   "language": "python",
   "name": "python3"
  },
  "language_info": {
   "name": "python",
   "version": "3.9.15"
  },
  "orig_nbformat": 4,
  "vscode": {
   "interpreter": {
    "hash": "3f70e54bbe987f8248feff703af2712d0301b86c481b68e032b4b346ade3c930"
   }
  }
 },
 "nbformat": 4,
 "nbformat_minor": 2
}
